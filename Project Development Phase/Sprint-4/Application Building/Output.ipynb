{
 "cells": [
  {
   "cell_type": "raw",
   "id": "a8d8afce",
   "metadata": {},
   "source": [
    "IBM Project Name: Real-Time Communication System Powered by AI for Specially Abled"
   ]
  },
  {
   "cell_type": "raw",
   "id": "398cdb29",
   "metadata": {},
   "source": [
    "TEAM ID: PNT2022TMID14851\n",
    "TEAM Leader:DHANUSH M J\n",
    "TEAM Member 1:BALAVIGNESH A\n",
    "TEAM Member 2:GOWRI SHANKAR P\n",
    "TEAM Member 3:BHARANI CHANDAR R"
   ]
  },
  {
   "cell_type": "raw",
   "id": "36c3b7b2",
   "metadata": {},
   "source": [
    "FINAL OUTPUT\n",
    "\n",
    "Import datagenerator to train and test"
   ]
  },
  {
   "cell_type": "code",
   "execution_count": null,
   "id": "13b8a12c",
   "metadata": {},
   "outputs": [],
   "source": [
    "from tensorflow.keras.preprocessing.image import ImageDataGenerator"
   ]
  },
  {
   "cell_type": "code",
   "execution_count": null,
   "id": "33fdf39b",
   "metadata": {},
   "outputs": [],
   "source": [
    "train_datagen = ImageDataGenerator(rescale = 1./255,shear_range=0.2,zoom_range= 0.2,horizontal_flip=True,vertical_flip=False)"
   ]
  },
  {
   "cell_type": "code",
   "execution_count": null,
   "id": "a4a3c341",
   "metadata": {},
   "outputs": [],
   "source": [
    "test_datagen = ImageDataGenerator(rescale = 1./255)"
   ]
  },
  {
   "cell_type": "code",
   "execution_count": null,
   "id": "6c825287",
   "metadata": {},
   "outputs": [],
   "source": [
    "import tensorflow as tf\n",
    "import os\n",
    "from tensorflow.keras.models import Sequential\n",
    "from tensorflow.keras.layers import Dense, Conv2D, Flatten, Dropout, MaxPooling2D\n",
    "from tensorflow.keras.preprocessing.image import ImageDataGenerator\n",
    "import numpy as np\n",
    "import matplotlib.pyplot as plt\n",
    "import IPython.display as display\n",
    "from PIL import Image\n",
    "import pathlib"
   ]
  },
  {
   "cell_type": "code",
   "execution_count": null,
   "id": "2cbfce80",
   "metadata": {},
   "outputs": [],
   "source": [
    "Apply ImageDataGenerator Functionality To Train And Test set"
   ]
  },
  {
   "cell_type": "code",
   "execution_count": null,
   "id": "f8acb84b",
   "metadata": {},
   "outputs": [],
   "source": [
    "from google.colab import drive"
   ]
  },
  {
   "cell_type": "code",
   "execution_count": null,
   "id": "c2ffa6ad",
   "metadata": {},
   "outputs": [],
   "source": [
    "from tensorflow.keras.preprocessing.image import ImageDataGenerator\n",
    "print(\"This dataset has been created and uploaded by IBM-TeamID-IBM-Project-50210-1660899973\")"
   ]
  },
  {
   "cell_type": "raw",
   "id": "e0764a3b",
   "metadata": {},
   "source": [
    "This dataset has been created and uploaded by IBM-TeamID-IBM-Project-50210-1660899973"
   ]
  },
  {
   "cell_type": "code",
   "execution_count": null,
   "id": "a810d9de",
   "metadata": {},
   "outputs": [],
   "source": [
    "x_train= train_datagen.flow_from_directory(r\"/content/drive/MyDrive/dataset/dataset/training_set\",target_size=(64,64),class_mode=\"categorical\",batch_size=48)"
   ]
  },
  {
   "cell_type": "code",
   "execution_count": null,
   "id": "dac910f5",
   "metadata": {},
   "outputs": [],
   "source": [
    "Found 10324 images belonging to 9 classes."
   ]
  },
  {
   "cell_type": "code",
   "execution_count": null,
   "id": "a26e9098",
   "metadata": {},
   "outputs": [],
   "source": [
    "x_test = test_datagen.flow_from_directory(r\"/content/drive/MyDrive/dataset/dataset/test_set\",target_size= (64,64),class_mode= \"categorical\",batch_size=48)"
   ]
  },
  {
   "cell_type": "code",
   "execution_count": null,
   "id": "ac67e1a0",
   "metadata": {},
   "outputs": [],
   "source": [
    "Found 2280 images belonging to 9 classes."
   ]
  },
  {
   "cell_type": "code",
   "execution_count": null,
   "id": "b934c022",
   "metadata": {},
   "outputs": [],
   "source": [
    "x_train.class_indices"
   ]
  },
  {
   "cell_type": "code",
   "execution_count": null,
   "id": "3341870f",
   "metadata": {},
   "outputs": [],
   "source": [
    "{'A': 0, 'B': 1, 'C': 2, 'D': 3, 'E': 4, 'F': 5, 'G': 6, 'H': 7, 'I': 8}"
   ]
  },
  {
   "cell_type": "code",
   "execution_count": null,
   "id": "78b358d7",
   "metadata": {},
   "outputs": [],
   "source": [
    "x_test.class_indices"
   ]
  },
  {
   "cell_type": "code",
   "execution_count": null,
   "id": "03748750",
   "metadata": {},
   "outputs": [],
   "source": [
    "{'A': 0, 'B': 1, 'C': 2, 'D': 3, 'E': 4, 'F': 5, 'G': 6, 'H': 7, 'I': 8}"
   ]
  },
  {
   "cell_type": "raw",
   "id": "9598ee4d",
   "metadata": {},
   "source": [
    "MODEL BUILDING"
   ]
  },
  {
   "cell_type": "code",
   "execution_count": null,
   "id": "5a6b8f0c",
   "metadata": {},
   "outputs": [],
   "source": [
    "from keras.models import Sequential\n",
    "from keras.layers import Dense\n",
    "from keras.layers import Convolution2D\n",
    "from tensorflow.keras.layers import Conv2D, MaxPooling2D\n",
    "from keras.layers import Dropout\n",
    "from keras.layers import Flatten"
   ]
  },
  {
   "cell_type": "code",
   "execution_count": null,
   "id": "8ada4136",
   "metadata": {},
   "outputs": [],
   "source": [
    "model=Sequential()"
   ]
  },
  {
   "cell_type": "code",
   "execution_count": null,
   "id": "4fa8e9c7",
   "metadata": {},
   "outputs": [],
   "source": [
    "model.add(Convolution2D(32,(3,3), input_shape=(64,64,1), activation = 'relu'))"
   ]
  },
  {
   "cell_type": "code",
   "execution_count": null,
   "id": "7e192f9a",
   "metadata": {},
   "outputs": [],
   "source": [
    "model.add(MaxPooling2D(pool_size=(2,2)))"
   ]
  },
  {
   "cell_type": "code",
   "execution_count": null,
   "id": "5cfb4c43",
   "metadata": {},
   "outputs": [],
   "source": [
    "model.add(MaxPooling2D(pool_size=(2,2)))"
   ]
  },
  {
   "cell_type": "code",
   "execution_count": null,
   "id": "cb90e9c2",
   "metadata": {},
   "outputs": [],
   "source": [
    "model.add(Dense( units=512, activation='relu'))"
   ]
  },
  {
   "cell_type": "code",
   "execution_count": null,
   "id": "0e1a9b7f",
   "metadata": {},
   "outputs": [],
   "source": [
    "model.add(Dense(units=9, activation='softmax'))"
   ]
  },
  {
   "cell_type": "code",
   "execution_count": null,
   "id": "dba78b04",
   "metadata": {},
   "outputs": [],
   "source": [
    "model.compile(loss='categorical_crossentropy', optimizer='adam', metrics=['accuracy'])"
   ]
  },
  {
   "cell_type": "code",
   "execution_count": null,
   "id": "2fc1a11e",
   "metadata": {},
   "outputs": [],
   "source": [
    "model.save('Realtime.h5')"
   ]
  },
  {
   "cell_type": "code",
   "execution_count": null,
   "id": "222c3f15",
   "metadata": {},
   "outputs": [],
   "source": [
    "a=len(x_train)\n",
    "b=len(x_test)"
   ]
  },
  {
   "cell_type": "raw",
   "id": "6a50739d",
   "metadata": {},
   "source": [
    "Length of training and testing data"
   ]
  },
  {
   "cell_type": "code",
   "execution_count": null,
   "id": "c5822a17",
   "metadata": {},
   "outputs": [],
   "source": [
    "print(a)\n",
    "print(b)"
   ]
  },
  {
   "cell_type": "raw",
   "id": "734349f6",
   "metadata": {},
   "source": [
    "216\n",
    "48"
   ]
  },
  {
   "cell_type": "raw",
   "id": "de931064",
   "metadata": {},
   "source": [
    "TEST THE MODEL"
   ]
  },
  {
   "cell_type": "code",
   "execution_count": null,
   "id": "cca531f4",
   "metadata": {},
   "outputs": [],
   "source": [
    "from tensorflow.keras.models import load_model\n",
    "from tensorflow.keras.preprocessing import image\n",
    "import numpy as np\n",
    "import cv2"
   ]
  },
  {
   "cell_type": "code",
   "execution_count": null,
   "id": "a79464a1",
   "metadata": {},
   "outputs": [],
   "source": [
    "img = image.load_img('/content/drive/MyDrive/dataset/dataset/test_set/F/107.png',target_size = (500,500))\n",
    "img"
   ]
  },
  {
   "cell_type": "code",
   "execution_count": null,
   "id": "6169f3e8",
   "metadata": {},
   "outputs": [],
   "source": [
    "from skimage.transform import resize\n",
    "def detect(frame):\n",
    "    img=image.img_to_array(frame)\n",
    "    img = resize(img,(64,64,1))\n",
    "    img = np.expand_dims(img,axis=0)\n",
    "    pred=np.argmax(model.predict(img))\n",
    "    op=['A','B','C','D','E','F','G','H','I']\n",
    "    print(\"THE PREDICTED LETTER IS \",op[pred])"
   ]
  },
  {
   "cell_type": "code",
   "execution_count": null,
   "id": "baa92976",
   "metadata": {},
   "outputs": [],
   "source": [
    "from skimage.transform import resize\n",
    "def detect(frame):\n",
    "  img=resize(frame,(64,64,1))\n",
    "  img=np.expand_dims(img,axis=0)\n",
    "  if(np.max(img)>1):\n",
    "    prediction=model.predict(img)\n",
    "    print(prediction)\n",
    "    prediction=model.predict_classes(img)\n",
    "    print(prediction)"
   ]
  },
  {
   "cell_type": "code",
   "execution_count": null,
   "id": "38ea3fea",
   "metadata": {},
   "outputs": [],
   "source": [
    "arr= image.img_to_array(img)"
   ]
  },
  {
   "cell_type": "code",
   "execution_count": null,
   "id": "3e336615",
   "metadata": {},
   "outputs": [],
   "source": [
    "frame=cv2.imread('/content/drive/MyDrive/dataset/dataset/test_set/F/107.png')\n",
    "data=detect(frame)\n",
    "from google.colab.patches import cv2_imshow\n",
    "cv2_imshow(frame)\n",
    "cv2.waitKey(0)\n",
    "cv2.destroyAllWindows()"
   ]
  },
  {
   "cell_type": "raw",
   "id": "52cc410d",
   "metadata": {},
   "source": [
    "1/1 [==============================] - 0s 285ms/step\n",
    "THE PREDICTED LETTER IS  I"
   ]
  },
  {
   "cell_type": "code",
   "execution_count": null,
   "id": "16614dd5",
   "metadata": {},
   "outputs": [],
   "source": [
    "frame=cv2.imread('/content/drive/MyDrive/dataset/dataset/test_set/C/12.png')\n",
    "data=detect(frame)\n",
    "from google.colab.patches import cv2_imshow\n",
    "cv2_imshow(frame)\n",
    "cv2.waitKey(0)\n",
    "cv2.destroyAllWindows()"
   ]
  },
  {
   "cell_type": "raw",
   "id": "70d68553",
   "metadata": {},
   "source": [
    "1/1 [==============================] - 0s 78ms/step\n",
    "THE PREDICTED LETTER IS  A"
   ]
  },
  {
   "cell_type": "code",
   "execution_count": null,
   "id": "675e61c6",
   "metadata": {},
   "outputs": [],
   "source": [
    "frame=cv2.imread('/content/drive/MyDrive/dataset/dataset/training_set/D/1008.png')\n",
    "data=detect(frame)\n",
    "from google.colab.patches import cv2_imshow\n",
    "cv2_imshow(frame)\n",
    "cv2.waitKey(0)\n",
    "cv2.destroyAllWindows()"
   ]
  },
  {
   "cell_type": "raw",
   "id": "6b54d636",
   "metadata": {},
   "source": [
    "1/1 [==============================] - 0s 75ms/step\n",
    "THE PREDICTED LETTER IS  E"
   ]
  },
  {
   "cell_type": "code",
   "execution_count": null,
   "id": "80e6ec9c",
   "metadata": {},
   "outputs": [],
   "source": []
  }
 ],
 "metadata": {
  "kernelspec": {
   "display_name": "Python 3 (ipykernel)",
   "language": "python",
   "name": "python3"
  },
  "language_info": {
   "codemirror_mode": {
    "name": "ipython",
    "version": 3
   },
   "file_extension": ".py",
   "mimetype": "text/x-python",
   "name": "python",
   "nbconvert_exporter": "python",
   "pygments_lexer": "ipython3",
   "version": "3.9.13"
  }
 },
 "nbformat": 4,
 "nbformat_minor": 5
}
