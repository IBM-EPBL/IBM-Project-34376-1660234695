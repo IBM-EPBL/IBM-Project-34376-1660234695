{
 "cells": [
  {
   "cell_type": "raw",
   "id": "69f67833",
   "metadata": {},
   "source": [
    "TEST THE MODEL\n",
    "\n",
    "Import datagenerator to train and test"
   ]
  },
  {
   "cell_type": "code",
   "execution_count": null,
   "id": "166735bf",
   "metadata": {},
   "outputs": [],
   "source": [
    "from tensorflow.keras.preprocessing.image import ImageDataGenerator"
   ]
  },
  {
   "cell_type": "code",
   "execution_count": null,
   "id": "3e8d058b",
   "metadata": {},
   "outputs": [],
   "source": [
    "train_datagen = ImageDataGenerator(rescale = 1./255,shear_range=0.2,zoom_range= 0.2,horizontal_flip=True,vertical_flip=False)"
   ]
  },
  {
   "cell_type": "code",
   "execution_count": null,
   "id": "e4f52572",
   "metadata": {},
   "outputs": [],
   "source": [
    "test_datagen = ImageDataGenerator(rescale = 1./255)"
   ]
  },
  {
   "cell_type": "code",
   "execution_count": null,
   "id": "a985f4bd",
   "metadata": {},
   "outputs": [],
   "source": [
    "import tensorflow as tf\n",
    "import os\n",
    "from tensorflow.keras.models import Sequential\n",
    "from tensorflow.keras.layers import Dense, Conv2D, Flatten, Dropout, MaxPooling2D\n",
    "from tensorflow.keras.preprocessing.image import ImageDataGenerator\n",
    "import numpy as np\n",
    "import matplotlib.pyplot as plt\n",
    "import IPython.display as display\n",
    "from PIL import Image\n",
    "import pathlib"
   ]
  },
  {
   "cell_type": "code",
   "execution_count": null,
   "id": "40b72384",
   "metadata": {},
   "outputs": [],
   "source": [
    "Apply ImageDataGenerator Functionality To Train And Test set"
   ]
  },
  {
   "cell_type": "code",
   "execution_count": null,
   "id": "f1582819",
   "metadata": {},
   "outputs": [],
   "source": [
    "from google.colab import drive"
   ]
  },
  {
   "cell_type": "code",
   "execution_count": null,
   "id": "4061bdb8",
   "metadata": {},
   "outputs": [],
   "source": [
    "from tensorflow.keras.preprocessing.image import ImageDataGenerator\n",
    "print(\"This dataset has been created and uploaded by IBM-TeamID-IBM-Project-34376-1660234695\")"
   ]
  },
  {
   "cell_type": "raw",
   "id": "5820703e",
   "metadata": {},
   "source": [
    "This dataset has been created and uploaded by IBM-TeamID-IBM-Project-34376-1660234695"
   ]
  },
  {
   "cell_type": "code",
   "execution_count": null,
   "id": "3ca2c887",
   "metadata": {},
   "outputs": [],
   "source": [
    "x_train= train_datagen.flow_from_directory(r\"/content/drive/MyDrive/dataset/dataset/training_set\",target_size=(64,64),class_mode=\"categorical\",batch_size=48)"
   ]
  },
  {
   "cell_type": "raw",
   "id": "1ea8670e",
   "metadata": {},
   "source": [
    "Found 10324 images belonging to 9 classes."
   ]
  },
  {
   "cell_type": "code",
   "execution_count": null,
   "id": "7fc506e8",
   "metadata": {},
   "outputs": [],
   "source": [
    "x_test = test_datagen.flow_from_directory(r\"/content/drive/MyDrive/dataset/dataset/test_set\",target_size= (64,64),class_mode= \"categorical\",batch_size=48)"
   ]
  },
  {
   "cell_type": "raw",
   "id": "fdb9f2ee",
   "metadata": {},
   "source": [
    "Found 2280 images belonging to 9 classes."
   ]
  },
  {
   "cell_type": "code",
   "execution_count": null,
   "id": "a01a5bed",
   "metadata": {},
   "outputs": [],
   "source": [
    "x_train.class_indices"
   ]
  },
  {
   "cell_type": "raw",
   "id": "bdb5d7f0",
   "metadata": {},
   "source": [
    "{'A': 0, 'B': 1, 'C': 2, 'D': 3, 'E': 4, 'F': 5, 'G': 6, 'H': 7, 'I': 8}"
   ]
  },
  {
   "cell_type": "code",
   "execution_count": null,
   "id": "2bbe3b55",
   "metadata": {},
   "outputs": [],
   "source": [
    "x_test.class_indices"
   ]
  },
  {
   "cell_type": "raw",
   "id": "7a8d5018",
   "metadata": {},
   "source": [
    "{'A': 0, 'B': 1, 'C': 2, 'D': 3, 'E': 4, 'F': 5, 'G': 6, 'H': 7, 'I': 8}"
   ]
  },
  {
   "cell_type": "raw",
   "id": "ecf268cc",
   "metadata": {},
   "source": [
    "MODEL BUILDING"
   ]
  },
  {
   "cell_type": "code",
   "execution_count": null,
   "id": "ad5168cc",
   "metadata": {},
   "outputs": [],
   "source": [
    "from keras.models import Sequential\n",
    "from keras.layers import Dense\n",
    "from keras.layers import Convolution2D\n",
    "from tensorflow.keras.layers import Conv2D, MaxPooling2D\n",
    "from keras.layers import Dropout\n",
    "from keras.layers import Flatten"
   ]
  },
  {
   "cell_type": "code",
   "execution_count": null,
   "id": "5275fd74",
   "metadata": {},
   "outputs": [],
   "source": [
    "model=Sequential()"
   ]
  },
  {
   "cell_type": "code",
   "execution_count": null,
   "id": "2e9e8666",
   "metadata": {},
   "outputs": [],
   "source": [
    "model.add(Convolution2D(32,(3,3), input_shape=(64,64,1), activation = 'relu'))"
   ]
  },
  {
   "cell_type": "code",
   "execution_count": null,
   "id": "ab803028",
   "metadata": {},
   "outputs": [],
   "source": [
    "model.add(MaxPooling2D(pool_size=(2,2)))"
   ]
  },
  {
   "cell_type": "code",
   "execution_count": null,
   "id": "32218d9b",
   "metadata": {},
   "outputs": [],
   "source": [
    "model.add(Flatten())"
   ]
  },
  {
   "cell_type": "code",
   "execution_count": null,
   "id": "ab5ec523",
   "metadata": {},
   "outputs": [],
   "source": [
    "model.add(Dense( units=512, activation='relu'))"
   ]
  },
  {
   "cell_type": "code",
   "execution_count": null,
   "id": "ec80010a",
   "metadata": {},
   "outputs": [],
   "source": [
    "model.add(Dense(units=9, activation='softmax'))"
   ]
  },
  {
   "cell_type": "code",
   "execution_count": null,
   "id": "7f639223",
   "metadata": {},
   "outputs": [],
   "source": [
    "model.compile(loss='categorical_crossentropy', optimizer='adam', metrics=['accuracy'])"
   ]
  },
  {
   "cell_type": "code",
   "execution_count": null,
   "id": "08bfd08a",
   "metadata": {},
   "outputs": [],
   "source": [
    "model.fit(x_train,steps_per_epoch=len(x_train),epochs=5,validation_data=x_test,validation_steps=len(x_test))"
   ]
  },
  {
   "cell_type": "raw",
   "id": "2be891e7",
   "metadata": {},
   "source": [
    "Epoch 1/5\n",
    "216/216 [==============================] - 162s 749ms/step - loss: 0.1131 - accuracy: 0.9633 - val_loss: 7.3499 - val_accuracy: 0.6456\n",
    "Epoch 2/5\n",
    "216/216 [==============================] - 39s 181ms/step - loss: 0.0356 - accuracy: 0.9900 - val_loss: 7.9273 - val_accuracy: 0.6461\n",
    "Epoch 3/5\n",
    "216/216 [==============================] - 42s 197ms/step - loss: 0.0294 - accuracy: 0.9923 - val_loss: 7.7494 - val_accuracy: 0.6469\n",
    "Epoch 4/5\n",
    "216/216 [==============================] - 41s 190ms/step - loss: 0.0173 - accuracy: 0.9951 - val_loss: 8.0277 - val_accuracy: 0.6461\n",
    "Epoch 5/5\n",
    "216/216 [==============================] - 42s 194ms/step - loss: 0.0072 - accuracy: 0.9984 - val_loss: 8.4261 - val_accuracy: 0.6465"
   ]
  },
  {
   "cell_type": "code",
   "execution_count": null,
   "id": "35f0fd67",
   "metadata": {},
   "outputs": [],
   "source": [
    "model.save('Realtime.h5')"
   ]
  },
  {
   "cell_type": "code",
   "execution_count": null,
   "id": "767b45e8",
   "metadata": {},
   "outputs": [],
   "source": [
    "a=len(x_train)\n",
    "b=len(x_test)"
   ]
  },
  {
   "cell_type": "raw",
   "id": "334f8531",
   "metadata": {},
   "source": [
    "Length of training and testing data"
   ]
  },
  {
   "cell_type": "code",
   "execution_count": null,
   "id": "89b6e3be",
   "metadata": {},
   "outputs": [],
   "source": [
    "print(a)\n",
    "print(b)"
   ]
  },
  {
   "cell_type": "raw",
   "id": "86cba026",
   "metadata": {},
   "source": [
    "216\n",
    "48"
   ]
  },
  {
   "cell_type": "raw",
   "id": "e1c7f1bb",
   "metadata": {},
   "source": [
    "TEST THE MODEL"
   ]
  },
  {
   "cell_type": "code",
   "execution_count": null,
   "id": "656fbf3c",
   "metadata": {},
   "outputs": [],
   "source": [
    "from tensorflow.keras.models import load_model\n",
    "from tensorflow.keras.preprocessing import image\n",
    "import numpy as np\n",
    "import cv2"
   ]
  },
  {
   "cell_type": "code",
   "execution_count": null,
   "id": "57a24cfd",
   "metadata": {},
   "outputs": [],
   "source": [
    "from skimage.transform import resize\n",
    "def detect(frame):\n",
    "    img=image.img_to_array(frame)\n",
    "    img = resize(img,(64,64,1))\n",
    "    img = np.expand_dims(img,axis=0)\n",
    "    pred=np.argmax(model.predict(img))\n",
    "    op=['A','B','C','D','E','F','G','H','I']\n",
    "    print(\"THE PREDICTED LETTER IS \",op[pred])"
   ]
  },
  {
   "cell_type": "code",
   "execution_count": null,
   "id": "5b09ec42",
   "metadata": {},
   "outputs": [],
   "source": [
    "img = image.load_img('/content/drive/MyDrive/dataset/dataset/test_set/F/107.png',target_size = (500,500))\n",
    "img"
   ]
  },
  {
   "cell_type": "code",
   "execution_count": null,
   "id": "9e25abfa",
   "metadata": {},
   "outputs": [],
   "source": [
    "from skimage.transform import resize\n",
    "def detect(frame):\n",
    "  img=resize(frame,(64,64,1))\n",
    "  img=np.expand_dims(img,axis=0)\n",
    "  if(np.max(img)>1):\n",
    "    prediction=model.predict(img)\n",
    "    print(prediction)\n",
    "    prediction=model.predict_classes(img)\n",
    "    print(prediction)"
   ]
  },
  {
   "cell_type": "code",
   "execution_count": null,
   "id": "8acbda5d",
   "metadata": {},
   "outputs": [],
   "source": [
    "arr= image.img_to_array(img)"
   ]
  },
  {
   "cell_type": "code",
   "execution_count": null,
   "id": "5ebf3d6c",
   "metadata": {},
   "outputs": [],
   "source": [
    "frame=cv2.imread('/content/drive/MyDrive/dataset/dataset/test_set/F/107.png')\n",
    "data=detect(frame)\n",
    "from google.colab.patches import cv2_imshow\n",
    "cv2_imshow(frame)\n",
    "cv2.waitKey(0)\n",
    "cv2.destroyAllWindows()"
   ]
  }
 ],
 "metadata": {
  "kernelspec": {
   "display_name": "Python 3 (ipykernel)",
   "language": "python",
   "name": "python3"
  },
  "language_info": {
   "codemirror_mode": {
    "name": "ipython",
    "version": 3
   },
   "file_extension": ".py",
   "mimetype": "text/x-python",
   "name": "python",
   "nbconvert_exporter": "python",
   "pygments_lexer": "ipython3",
   "version": "3.9.13"
  }
 },
 "nbformat": 4,
 "nbformat_minor": 5
}
